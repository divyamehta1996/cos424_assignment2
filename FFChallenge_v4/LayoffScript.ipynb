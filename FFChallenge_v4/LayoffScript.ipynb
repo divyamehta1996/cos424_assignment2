{
 "cells": [
  {
   "cell_type": "code",
   "execution_count": 1,
   "metadata": {
    "collapsed": false,
    "deletable": true,
    "editable": true
   },
   "outputs": [],
   "source": [
    "import pandas as pd\n",
    "import numpy as np\n",
    "\n",
    "train = []\n",
    "labels = []\n",
    "\n",
    "dfPredict = pd.read_csv(\"train.csv\", header = 0, low_memory=False)\n",
    "dfBackground = pd.read_csv(\"noConstants.csv\", header = 0, low_memory=False)\n",
    "# GPA\n",
    "rows = dfPredict.shape[0]\n",
    "for i in range(rows):\n",
    "\n",
    "    score = unicode(\"layoff\", \"utf-8\")\n",
    "    key = unicode(\"challengeID\", \"utf-8\")\n",
    "    gpa = dfPredict.loc[dfPredict.index[[i]], score]\n",
    "    labels.append(gpa.values)\n",
    "    \n",
    "    # Gets corresponding data for each challengeID in training set\n",
    "    challengeID = dfPredict.loc[dfPredict.index[[i]], key].values\n",
    "    data = dfBackground.loc[dfBackground.index[[challengeID - 1]]]\n",
    "    \n",
    "    # Removes from the array the id\n",
    "    withoutID = data.drop([\"challengeID\"], axis=1)\n",
    "    \n",
    "    train.append(withoutID.values)\n"
   ]
  },
  {
   "cell_type": "code",
   "execution_count": 2,
   "metadata": {
    "collapsed": false,
    "deletable": true,
    "editable": true
   },
   "outputs": [],
   "source": [
    "import math\n",
    "newTrain = []\n",
    "newLabels = []\n",
    "\n",
    "for i in range(len(labels)):\n",
    "    if not math.isnan(labels[i][0]):\n",
    "        newTrain.append(train[i][0])\n",
    "        newLabels.append(labels[i][0])\n"
   ]
  },
  {
   "cell_type": "code",
   "execution_count": 3,
   "metadata": {
    "collapsed": false,
    "deletable": true,
    "editable": true
   },
   "outputs": [],
   "source": [
    "from sklearn import preprocessing\n",
    "le = preprocessing.LabelEncoder()\n",
    "transformTrain = []\n",
    "tobin = []\n",
    "stringIndices = []\n",
    "\n",
    "for arr in newTrain:\n",
    "    for each in arr:\n",
    "        if type(each) is str:\n",
    "            tobin.append(each)\n",
    "\n",
    "trans = le.fit_transform(tobin)\n",
    "\n",
    "count = 0\n",
    "for arr in newTrain:\n",
    "    for each in arr:\n",
    "        if type(each) is str:\n",
    "            y = trans[count]\n",
    "            count = count + 1\n",
    "            transformTrain.append(y)\n",
    "        else:\n",
    "            transformTrain.append(each)\n",
    "transformTrain = np.reshape(np.array(transformTrain), (len(newTrain),-1))\n",
    "\n",
    "\n",
    "# for arr in newTrain:\n",
    "#     for each in arr:\n",
    "#         if type(each) is str:\n",
    "#             m = re.search(\"\\d\", each)\n",
    "#             if m:\n",
    "#                 y = float(each[m.start()])\n",
    "#             else:\n",
    "#                 y = 0.0\n",
    "#             transformTrain.append(y)\n",
    "#         else:\n",
    "#             transformTrain.append(each)\n",
    "# transformTrain = np.reshape(np.array(transformTrain), (len(newTrain),-1))\n"
   ]
  },
  {
   "cell_type": "code",
   "execution_count": 5,
   "metadata": {
    "collapsed": false,
    "deletable": true,
    "editable": true
   },
   "outputs": [
    {
     "data": {
      "text/plain": [
       "'8'"
      ]
     },
     "execution_count": 5,
     "metadata": {},
     "output_type": "execute_result"
    }
   ],
   "source": [
    "import re\n",
    "x = '8-9'\n",
    "m = re.search(\"\\d\", x)\n",
    "x[m.start()]"
   ]
  },
  {
   "cell_type": "code",
   "execution_count": 68,
   "metadata": {
    "collapsed": false,
    "deletable": true,
    "editable": true
   },
   "outputs": [],
   "source": [
    "gpas = {1.0: 0, 1.25: 1, 1.50: 2, 1.75: 3, 2.0: 4, 2.25: 5, 2.50:6, 2.75:7, 3.0:8, 3.25:9, 3.50:10, 3.75: 11, 4.0:12}"
   ]
  },
  {
   "cell_type": "code",
   "execution_count": 69,
   "metadata": {
    "collapsed": true,
    "deletable": true,
    "editable": true
   },
   "outputs": [],
   "source": [
    "classLabels = []\n",
    "for each in newLabels:\n",
    "    classLabels.append(gpas[each])"
   ]
  },
  {
   "cell_type": "code",
   "execution_count": 4,
   "metadata": {
    "collapsed": false,
    "deletable": true,
    "editable": true
   },
   "outputs": [
    {
     "data": {
      "text/plain": [
       "LogisticRegression(C=1.0, class_weight=None, dual=False, fit_intercept=True,\n",
       "          intercept_scaling=1, max_iter=100, multi_class='ovr', n_jobs=1,\n",
       "          penalty='l2', random_state=None, solver='liblinear', tol=0.0001,\n",
       "          verbose=0, warm_start=False)"
      ]
     },
     "execution_count": 4,
     "metadata": {},
     "output_type": "execute_result"
    }
   ],
   "source": [
    "from sklearn.linear_model import LogisticRegression\n",
    "lr = LogisticRegression()\n",
    "lr.fit(transformTrain, newLabels)"
   ]
  },
  {
   "cell_type": "raw",
   "metadata": {
    "deletable": true,
    "editable": true
   },
   "source": []
  },
  {
   "cell_type": "code",
   "execution_count": 5,
   "metadata": {
    "collapsed": false,
    "deletable": true,
    "editable": true
   },
   "outputs": [
    {
     "data": {
      "text/plain": [
       "0.9420516836335161"
      ]
     },
     "execution_count": 5,
     "metadata": {},
     "output_type": "execute_result"
    }
   ],
   "source": [
    "lr.score(transformTrain, newLabels)"
   ]
  },
  {
   "cell_type": "code",
   "execution_count": 6,
   "metadata": {
    "collapsed": false,
    "deletable": true,
    "editable": true
   },
   "outputs": [],
   "source": [
    "# prediction for all samples\n",
    "\n",
    "rows = dfBackground.shape[0]\n",
    "allSamples = []\n",
    "for i in range(rows):\n",
    "    \n",
    "    data = dfBackground.loc[dfBackground.index[[i]]]\n",
    "    allSamples.append(data.drop([\"challengeID\"], axis=1).values[0])\n",
    "    \n"
   ]
  },
  {
   "cell_type": "code",
   "execution_count": 7,
   "metadata": {
    "collapsed": false,
    "deletable": true,
    "editable": true
   },
   "outputs": [
    {
     "name": "stdout",
     "output_type": "stream",
     "text": [
      "10594\n"
     ]
    }
   ],
   "source": [
    "transformSamples = []\n",
    "\n",
    "\n",
    "tobin = []\n",
    "for arr in allSamples:\n",
    "    for each in arr:\n",
    "        if type(each) is str:\n",
    "            tobin.append(each)\n",
    "#             y = le.fit_transform(each)\n",
    "#             transformTrain.append(y)\n",
    "\n",
    "trans = le.fit_transform(tobin)\n",
    "\n",
    "count = 0\n",
    "for arr in allSamples:\n",
    "\n",
    "    for each in arr:\n",
    "        if type(each) is str:\n",
    "            y = trans[count]\n",
    "            count = count + 1\n",
    "            transformSamples.append(y)\n",
    "        else:\n",
    "            transformSamples.append(each)\n",
    "transformSamples = np.reshape(np.array(transformSamples), (len(allSamples),-1))\n",
    "\n",
    "\n",
    "# for arr in allSamples:\n",
    "#     for each in arr:\n",
    "#         if type(each) is str:\n",
    "#             m = re.search(\"\\d\", each)\n",
    "#             if m:\n",
    "#                 y = float(each[m.start()])\n",
    "#             else:\n",
    "#                 y = 0.0\n",
    "#             transformSamples.append(y)\n",
    "#         else:\n",
    "#             transformSamples.append(each)\n",
    "# transformSamples = np.reshape(np.array(transformSamples), (len(allSamples),-1))\n",
    "print len(transformSamples[0])"
   ]
  },
  {
   "cell_type": "code",
   "execution_count": 13,
   "metadata": {
    "collapsed": false,
    "deletable": true,
    "editable": true
   },
   "outputs": [],
   "source": [
    "out = lr.predict_proba(transformSamples)\n",
    "# inv_gpas = {v: k for k, v in gpas.iteritems()}\n",
    "# transOut = []\n",
    "# for each in out:\n",
    "#     transOut.append(inv_gpas[each])\n"
   ]
  },
  {
   "cell_type": "code",
   "execution_count": 9,
   "metadata": {
    "collapsed": false,
    "deletable": true,
    "editable": true
   },
   "outputs": [],
   "source": [
    "dfResults = pd.read_csv(\"prediction.csv\", header = 0, low_memory=False)"
   ]
  },
  {
   "cell_type": "code",
   "execution_count": 14,
   "metadata": {
    "collapsed": false,
    "deletable": true,
    "editable": true
   },
   "outputs": [],
   "source": [
    "dfResults[\"layoff\"] = np.array(out) #transOut)"
   ]
  },
  {
   "cell_type": "code",
   "execution_count": 15,
   "metadata": {
    "collapsed": true,
    "deletable": true,
    "editable": true
   },
   "outputs": [],
   "source": [
    "dfResults.to_csv('prediction.csv', index=False)"
   ]
  },
  {
   "cell_type": "code",
   "execution_count": 12,
   "metadata": {
    "collapsed": false,
    "deletable": true,
    "editable": true
   },
   "outputs": [
    {
     "data": {
      "text/plain": [
       "array([ 0.,  1.,  0., ...,  0.,  1.,  0.])"
      ]
     },
     "execution_count": 12,
     "metadata": {},
     "output_type": "execute_result"
    }
   ],
   "source": [
    "out"
   ]
  },
  {
   "cell_type": "code",
   "execution_count": null,
   "metadata": {
    "collapsed": true
   },
   "outputs": [],
   "source": []
  }
 ],
 "metadata": {
  "kernelspec": {
   "display_name": "Python 2",
   "language": "python",
   "name": "python2"
  },
  "language_info": {
   "codemirror_mode": {
    "name": "ipython",
    "version": 2
   },
   "file_extension": ".py",
   "mimetype": "text/x-python",
   "name": "python",
   "nbconvert_exporter": "python",
   "pygments_lexer": "ipython2",
   "version": "2.7.13"
  }
 },
 "nbformat": 4,
 "nbformat_minor": 2
}
