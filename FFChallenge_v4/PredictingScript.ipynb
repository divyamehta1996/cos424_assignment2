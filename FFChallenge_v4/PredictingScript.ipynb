{
 "cells": [
  {
   "cell_type": "code",
   "execution_count": 1,
   "metadata": {
    "collapsed": false,
    "deletable": true,
    "editable": true
   },
   "outputs": [],
   "source": [
    "import pandas as pd\n",
    "import numpy as np\n",
    "\n",
    "train = []\n",
    "labels = []\n",
    "\n",
    "dfPredict = pd.read_csv(\"train.csv\", header = 0, low_memory=False)\n",
    "dfBackground = pd.read_csv(\"onlyCs.csv\", header = 0, low_memory=False)\n",
    "# GPA\n",
    "rows = dfPredict.shape[0]\n",
    "for i in range(rows):\n",
    "\n",
    "    score = unicode(\"gpa\", \"utf-8\")\n",
    "    key = unicode(\"challengeID\", \"utf-8\")\n",
    "    gpa = dfPredict.loc[dfPredict.index[[i]], score]\n",
    "    labels.append(gpa.values)\n",
    "    \n",
    "    # Gets corresponding data for each challengeID in training set\n",
    "    challengeID = dfPredict.loc[dfPredict.index[[i]], key].values\n",
    "    data = dfBackground.loc[dfBackground.index[[i - 1]]]\n",
    "    \n",
    "    # Removes from the array the id\n",
    "    withoutID = data.drop([\"challengeID\"], axis=1)\n",
    "    \n",
    "    train.append(withoutID.values)\n"
   ]
  },
  {
   "cell_type": "code",
   "execution_count": 2,
   "metadata": {
    "collapsed": false,
    "deletable": true,
    "editable": true
   },
   "outputs": [],
   "source": [
    "import math\n",
    "newTrain = []\n",
    "newLabels = []\n",
    "\n",
    "for i in range(len(labels)):\n",
    "    if not math.isnan(labels[i][0]):\n",
    "        newTrain.append(train[i][0])\n",
    "        newLabels.append(labels[i][0])\n"
   ]
  },
  {
   "cell_type": "code",
   "execution_count": 3,
   "metadata": {
    "collapsed": false,
    "deletable": true,
    "editable": true
   },
   "outputs": [],
   "source": [
    "from sklearn import preprocessing\n",
    "le = preprocessing.LabelEncoder()\n",
    "transformTrain = []\n",
    "tobin = []\n",
    "for arr in newTrain:\n",
    "    for each in arr:\n",
    "        if type(each) is str:\n",
    "            tobin.append(each)\n",
    "#             y = le.fit_transform(each)\n",
    "#             transformTrain.append(y)\n",
    "\n",
    "trans = le.fit_transform(tobin)\n",
    "\n",
    "count = 0\n",
    "for arr in newTrain:\n",
    "\n",
    "    for each in arr:\n",
    "        if type(each) is str:\n",
    "            y = trans[count]\n",
    "            count = count + 1\n",
    "            transformTrain.append(y)\n",
    "        else:\n",
    "            transformTrain.append(each)\n",
    "transformTrain = np.reshape(np.array(transformTrain), (len(newTrain),-1))"
   ]
  },
  {
   "cell_type": "code",
   "execution_count": 4,
   "metadata": {
    "collapsed": false,
    "deletable": true,
    "editable": true
   },
   "outputs": [],
   "source": [
    "gpas = {1.0: 1, 1.25: 2, 1.50: 3, 1.75: 4, 2.0: 5, 2.25: 6, 2.50:7, 2.75:8, 3.0:9, 3.25:10, 3.50:11, 3.75: 12, 4.0:13}"
   ]
  },
  {
   "cell_type": "code",
   "execution_count": 5,
   "metadata": {
    "collapsed": true,
    "deletable": true,
    "editable": true
   },
   "outputs": [],
   "source": [
    "classLabels = []\n",
    "for each in newLabels:\n",
    "    classLabels.append(gpas[each])"
   ]
  },
  {
   "cell_type": "code",
   "execution_count": 15,
   "metadata": {
    "collapsed": false,
    "deletable": true,
    "editable": true
   },
   "outputs": [
    {
     "data": {
      "text/plain": [
       "RidgeClassifier(alpha=1.0, class_weight=None, copy_X=True, fit_intercept=True,\n",
       "        max_iter=None, normalize=False, random_state=None, solver='auto',\n",
       "        tol=0.001)"
      ]
     },
     "execution_count": 15,
     "metadata": {},
     "output_type": "execute_result"
    }
   ],
   "source": [
    "from sklearn.linear_model import RidgeClassifier\n",
    "lr = RidgeClassifier()\n",
    "lr.fit(transformTrain, classLabels)"
   ]
  },
  {
   "cell_type": "code",
   "execution_count": 16,
   "metadata": {
    "collapsed": false,
    "deletable": true,
    "editable": true
   },
   "outputs": [
    {
     "data": {
      "text/plain": [
       "0.81545064377682408"
      ]
     },
     "execution_count": 16,
     "metadata": {},
     "output_type": "execute_result"
    }
   ],
   "source": [
    "lr.score(transformTrain, classLabels)"
   ]
  },
  {
   "cell_type": "code",
   "execution_count": 17,
   "metadata": {
    "collapsed": false,
    "deletable": true,
    "editable": true
   },
   "outputs": [],
   "source": [
    "# prediction for all samples\n",
    "\n",
    "rows = dfBackground.shape[0]\n",
    "allSamples = []\n",
    "for i in range(rows):\n",
    "    \n",
    "    data = dfBackground.loc[dfBackground.index[[i - 1]]]\n",
    "    allSamples.append(data.drop([\"challengeID\"], axis=1).values[0])\n",
    "    \n"
   ]
  },
  {
   "cell_type": "code",
   "execution_count": 18,
   "metadata": {
    "collapsed": false,
    "deletable": true,
    "editable": true
   },
   "outputs": [],
   "source": [
    "transformSamples = []\n",
    "\n",
    "\n",
    "tobin = []\n",
    "for arr in allSamples:\n",
    "    for each in arr:\n",
    "        if type(each) is str:\n",
    "            tobin.append(each)\n",
    "#             y = le.fit_transform(each)\n",
    "#             transformTrain.append(y)\n",
    "\n",
    "trans = le.fit_transform(tobin)\n",
    "\n",
    "count = 0\n",
    "for arr in allSamples:\n",
    "\n",
    "    for each in arr:\n",
    "        if type(each) is str:\n",
    "            y = trans[count]\n",
    "            count = count + 1\n",
    "            transformSamples.append(y)\n",
    "        else:\n",
    "            transformSamples.append(each)\n",
    "transformSamples = np.reshape(np.array(transformSamples), (len(allSamples),-1))"
   ]
  },
  {
   "cell_type": "code",
   "execution_count": 19,
   "metadata": {
    "collapsed": false,
    "deletable": true,
    "editable": true
   },
   "outputs": [],
   "source": [
    "out = lr.predict(transformSamples)\n",
    "inv_gpas = {v: k for k, v in gpas.iteritems()}\n",
    "transOut = []\n",
    "for each in out:\n",
    "    transOut.append(inv_gpas[each])\n"
   ]
  },
  {
   "cell_type": "code",
   "execution_count": 20,
   "metadata": {
    "collapsed": false,
    "deletable": true,
    "editable": true
   },
   "outputs": [],
   "source": [
    "dfResults = pd.read_csv(\"prediction.csv\", header = 0, low_memory=False)"
   ]
  },
  {
   "cell_type": "code",
   "execution_count": 21,
   "metadata": {
    "collapsed": false,
    "deletable": true,
    "editable": true
   },
   "outputs": [],
   "source": [
    "dfResults[\"gpa\"] = np.array(transOut)"
   ]
  },
  {
   "cell_type": "code",
   "execution_count": 22,
   "metadata": {
    "collapsed": true,
    "deletable": true,
    "editable": true
   },
   "outputs": [],
   "source": [
    "dfResults.to_csv('prediction.csv', index=False)"
   ]
  },
  {
   "cell_type": "code",
   "execution_count": null,
   "metadata": {
    "collapsed": true,
    "deletable": true,
    "editable": true
   },
   "outputs": [],
   "source": []
  }
 ],
 "metadata": {
  "kernelspec": {
   "display_name": "Python 2",
   "language": "python",
   "name": "python2"
  },
  "language_info": {
   "codemirror_mode": {
    "name": "ipython",
    "version": 2
   },
   "file_extension": ".py",
   "mimetype": "text/x-python",
   "name": "python",
   "nbconvert_exporter": "python",
   "pygments_lexer": "ipython2",
   "version": "2.7.13"
  }
 },
 "nbformat": 4,
 "nbformat_minor": 2
}
